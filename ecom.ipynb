{
 "cells": [
  {
   "cell_type": "markdown",
   "id": "79b8c8c2",
   "metadata": {},
   "source": [
    "# Description"
   ]
  },
  {
   "cell_type": "markdown",
   "id": "79783fa8",
   "metadata": {},
   "source": [
    "Сервисы доставки еды уже давно перестали быть просто курьерами, которые привозят заказ. Индустрия e-grocery стремительно идет к аккумулированию и использованию больших данных, чтобы знать о своих пользователях больше и предоставлять более качественные и персонализированные услуги. Одним из шагов к такой персонализации может быть разработка модели, которая понимает привычки и нужды пользователя, и, к примеру, может угадать, что и когда пользователь захочет заказать в следующий раз.\n",
    "\n",
    "Такая модель, будучи разработанной, может принести значительную ценность для клиента - сэкономить время при сборке корзины, помочь ничего не забыть в заказе, убрать необходимость планировать закупки и следить за заканчивающимися запасами продуктов.\n",
    "\n",
    "В данном соревновании участникам предлагается решить задачу предсказания следующего заказа пользователя (безотносительно конкретного момента времени, когда этот заказ произойдет). Заказ пользователя состоит из списка уникальных категорий товаров, вне зависимости от того, сколько продуктов каждой категории он взял."
   ]
  },
  {
   "cell_type": "markdown",
   "id": "3e866739",
   "metadata": {},
   "source": [
    "В качестве тренировочных данных представляется датасет с историей заказов 20000 пользователей вплоть до даты отсечки, которая разделяет тренировочные и тестовые данные по времени.\n",
    "\n",
    "train.csv:\n",
    "user_id - уникальный id пользователя\n",
    "order_completed_at - дата заказа\n",
    "cart - список уникальных категорий (category_id), из которых состоял заказ\n",
    "В качестве прогноза необходимо для каждой пары пользователь-категория из примера сабмита вернуть 1, если категория будет присутствовать в следующем заказе пользователя, или 0 в ином случае. Список категорий для каждого пользователя примере сабмита - это все категории, которые он когда-либо заказывал.\n",
    "\n",
    "sample_submission.csv:\n",
    "Пример сабмита. В тест входят не все пользователи из тренировочных данных, так как некоторые из них так ничего и не заказали после даты отсечки.\n",
    "\n",
    "id - идентификатор строки - состоит из user_id и category_id, разделенных точкой с запятой: f'{user_id};{category_id}'. Из-за особенностей проверяющей системы Kaggle InClass, использовать колонки user_id, category_id в качестве индекса отдельно невозможно\n",
    "target - 1 или 0 - будет ли данная категория присутствовать в следующем заказе пользователя"
   ]
  },
  {
   "cell_type": "code",
   "execution_count": 1,
   "id": "f5cb65a5",
   "metadata": {},
   "outputs": [],
   "source": [
    "import numpy as np\n",
    "import pandas as pd\n",
    "\n",
    "import matplotlib.pyplot as plt\n",
    "import seaborn as sns\n",
    "\n",
    "from sklearn.metrics import f1_score\n",
    "from sklearn.model_selection import train_test_split"
   ]
  },
  {
   "cell_type": "markdown",
   "id": "b7df14e3",
   "metadata": {},
   "source": [
    "Загружаем данные"
   ]
  },
  {
   "cell_type": "code",
   "execution_count": 2,
   "id": "ed514430",
   "metadata": {
    "execution": {
     "iopub.execute_input": "2024-11-10T22:05:24.912391Z",
     "iopub.status.busy": "2024-11-10T22:05:24.911155Z",
     "iopub.status.idle": "2024-11-10T22:05:28.269873Z",
     "shell.execute_reply": "2024-11-10T22:05:28.268223Z"
    },
    "papermill": {
     "duration": 3.381911,
     "end_time": "2024-11-10T22:05:28.273616",
     "exception": false,
     "start_time": "2024-11-10T22:05:24.891705",
     "status": "completed"
    },
    "tags": []
   },
   "outputs": [],
   "source": [
    "data = pd.read_csv('train.csv')\n",
    "sample = pd.read_csv('sample_submission.csv')"
   ]
  },
  {
   "cell_type": "markdown",
   "id": "e33a62b5",
   "metadata": {
    "papermill": {
     "duration": 0.016149,
     "end_time": "2024-11-10T22:05:28.305576",
     "exception": false,
     "start_time": "2024-11-10T22:05:28.289427",
     "status": "completed"
    },
    "tags": []
   },
   "source": [
    "## EDA"
   ]
  },
  {
   "cell_type": "markdown",
   "id": "fc3ed1a0",
   "metadata": {},
   "source": [
    "Взглянем на данные"
   ]
  },
  {
   "cell_type": "code",
   "execution_count": 6,
   "id": "93bbc0ce",
   "metadata": {
    "execution": {
     "iopub.execute_input": "2024-11-10T22:05:28.342133Z",
     "iopub.status.busy": "2024-11-10T22:05:28.341542Z",
     "iopub.status.idle": "2024-11-10T22:05:28.371770Z",
     "shell.execute_reply": "2024-11-10T22:05:28.369978Z"
    },
    "papermill": {
     "duration": 0.050806,
     "end_time": "2024-11-10T22:05:28.375084",
     "exception": false,
     "start_time": "2024-11-10T22:05:28.324278",
     "status": "completed"
    },
    "tags": []
   },
   "outputs": [
    {
     "name": "stdout",
     "output_type": "stream",
     "text": [
      "   user_id  order_completed_at  cart\n",
      "0        2 2015-03-22 09:25:46   399\n",
      "1        2 2015-03-22 09:25:46    14\n",
      "2        2 2015-03-22 09:25:46   198\n",
      "3        2 2015-03-22 09:25:46    88\n",
      "4        2 2015-03-22 09:25:46   157\n",
      "<class 'pandas.core.frame.DataFrame'>\n",
      "RangeIndex: 3123064 entries, 0 to 3123063\n",
      "Data columns (total 3 columns):\n",
      " #   Column              Dtype         \n",
      "---  ------              -----         \n",
      " 0   user_id             int64         \n",
      " 1   order_completed_at  datetime64[ns]\n",
      " 2   cart                int64         \n",
      "dtypes: datetime64[ns](1), int64(2)\n",
      "memory usage: 71.5 MB\n",
      "None\n"
     ]
    }
   ],
   "source": [
    "print(data.head())\n",
    "print(data.info())"
   ]
  },
  {
   "cell_type": "code",
   "execution_count": 4,
   "id": "84af4e53",
   "metadata": {
    "execution": {
     "iopub.execute_input": "2024-11-10T22:05:28.405921Z",
     "iopub.status.busy": "2024-11-10T22:05:28.405246Z",
     "iopub.status.idle": "2024-11-10T22:05:28.422202Z",
     "shell.execute_reply": "2024-11-10T22:05:28.420788Z"
    },
    "papermill": {
     "duration": 0.036381,
     "end_time": "2024-11-10T22:05:28.425473",
     "exception": false,
     "start_time": "2024-11-10T22:05:28.389092",
     "status": "completed"
    },
    "tags": []
   },
   "outputs": [
    {
     "data": {
      "text/html": [
       "<div>\n",
       "<style scoped>\n",
       "    .dataframe tbody tr th:only-of-type {\n",
       "        vertical-align: middle;\n",
       "    }\n",
       "\n",
       "    .dataframe tbody tr th {\n",
       "        vertical-align: top;\n",
       "    }\n",
       "\n",
       "    .dataframe thead th {\n",
       "        text-align: right;\n",
       "    }\n",
       "</style>\n",
       "<table border=\"1\" class=\"dataframe\">\n",
       "  <thead>\n",
       "    <tr style=\"text-align: right;\">\n",
       "      <th></th>\n",
       "      <th>id</th>\n",
       "      <th>target</th>\n",
       "    </tr>\n",
       "  </thead>\n",
       "  <tbody>\n",
       "    <tr>\n",
       "      <th>0</th>\n",
       "      <td>0;133</td>\n",
       "      <td>0</td>\n",
       "    </tr>\n",
       "    <tr>\n",
       "      <th>1</th>\n",
       "      <td>0;5</td>\n",
       "      <td>1</td>\n",
       "    </tr>\n",
       "    <tr>\n",
       "      <th>2</th>\n",
       "      <td>0;10</td>\n",
       "      <td>0</td>\n",
       "    </tr>\n",
       "    <tr>\n",
       "      <th>3</th>\n",
       "      <td>0;396</td>\n",
       "      <td>1</td>\n",
       "    </tr>\n",
       "    <tr>\n",
       "      <th>4</th>\n",
       "      <td>0;14</td>\n",
       "      <td>0</td>\n",
       "    </tr>\n",
       "  </tbody>\n",
       "</table>\n",
       "</div>"
      ],
      "text/plain": [
       "      id  target\n",
       "0  0;133       0\n",
       "1    0;5       1\n",
       "2   0;10       0\n",
       "3  0;396       1\n",
       "4   0;14       0"
      ]
     },
     "execution_count": 4,
     "metadata": {},
     "output_type": "execute_result"
    }
   ],
   "source": [
    "sample.head()"
   ]
  },
  {
   "cell_type": "markdown",
   "id": "017a0ce4",
   "metadata": {},
   "source": [
    "преобразуем order_completed_at в datetime"
   ]
  },
  {
   "cell_type": "code",
   "execution_count": 5,
   "id": "20a0509a",
   "metadata": {
    "execution": {
     "iopub.execute_input": "2024-11-10T22:05:28.456138Z",
     "iopub.status.busy": "2024-11-10T22:05:28.455114Z",
     "iopub.status.idle": "2024-11-10T22:05:29.228360Z",
     "shell.execute_reply": "2024-11-10T22:05:29.226561Z"
    },
    "papermill": {
     "duration": 0.791702,
     "end_time": "2024-11-10T22:05:29.231694",
     "exception": false,
     "start_time": "2024-11-10T22:05:28.439992",
     "status": "completed"
    },
    "tags": []
   },
   "outputs": [],
   "source": [
    "data['order_completed_at'] = pd.to_datetime(data['order_completed_at'])"
   ]
  },
  {
   "cell_type": "markdown",
   "id": "a85c0eb0",
   "metadata": {},
   "source": [
    "Разделение `user_id` и `category_id` в sample_submission для удобства анализа"
   ]
  },
  {
   "cell_type": "code",
   "execution_count": 7,
   "id": "e6ce7027",
   "metadata": {
    "execution": {
     "iopub.execute_input": "2024-11-10T22:05:29.260124Z",
     "iopub.status.busy": "2024-11-10T22:05:29.259216Z",
     "iopub.status.idle": "2024-11-10T22:05:30.297177Z",
     "shell.execute_reply": "2024-11-10T22:05:30.295687Z"
    },
    "papermill": {
     "duration": 1.056206,
     "end_time": "2024-11-10T22:05:30.300625",
     "exception": false,
     "start_time": "2024-11-10T22:05:29.244419",
     "status": "completed"
    },
    "tags": []
   },
   "outputs": [
    {
     "data": {
      "text/html": [
       "<div>\n",
       "<style scoped>\n",
       "    .dataframe tbody tr th:only-of-type {\n",
       "        vertical-align: middle;\n",
       "    }\n",
       "\n",
       "    .dataframe tbody tr th {\n",
       "        vertical-align: top;\n",
       "    }\n",
       "\n",
       "    .dataframe thead th {\n",
       "        text-align: right;\n",
       "    }\n",
       "</style>\n",
       "<table border=\"1\" class=\"dataframe\">\n",
       "  <thead>\n",
       "    <tr style=\"text-align: right;\">\n",
       "      <th></th>\n",
       "      <th>user_id</th>\n",
       "      <th>cart</th>\n",
       "      <th>target</th>\n",
       "    </tr>\n",
       "  </thead>\n",
       "  <tbody>\n",
       "    <tr>\n",
       "      <th>0</th>\n",
       "      <td>0</td>\n",
       "      <td>133</td>\n",
       "      <td>0</td>\n",
       "    </tr>\n",
       "    <tr>\n",
       "      <th>1</th>\n",
       "      <td>0</td>\n",
       "      <td>5</td>\n",
       "      <td>1</td>\n",
       "    </tr>\n",
       "    <tr>\n",
       "      <th>2</th>\n",
       "      <td>0</td>\n",
       "      <td>10</td>\n",
       "      <td>0</td>\n",
       "    </tr>\n",
       "    <tr>\n",
       "      <th>3</th>\n",
       "      <td>0</td>\n",
       "      <td>396</td>\n",
       "      <td>1</td>\n",
       "    </tr>\n",
       "    <tr>\n",
       "      <th>4</th>\n",
       "      <td>0</td>\n",
       "      <td>14</td>\n",
       "      <td>0</td>\n",
       "    </tr>\n",
       "  </tbody>\n",
       "</table>\n",
       "</div>"
      ],
      "text/plain": [
       "   user_id  cart  target\n",
       "0        0   133       0\n",
       "1        0     5       1\n",
       "2        0    10       0\n",
       "3        0   396       1\n",
       "4        0    14       0"
      ]
     },
     "execution_count": 7,
     "metadata": {},
     "output_type": "execute_result"
    }
   ],
   "source": [
    "submission = sample.copy()\n",
    "\n",
    "submission['user_id'] = submission['id'].map(lambda x: x.split(';')[0]).astype(int)\n",
    "submission['cart'] = submission['id'].map(lambda x: x.split(';')[1]).astype(int)\n",
    "\n",
    "submission = submission[['user_id', 'cart', 'target']]\n",
    "submission.head()"
   ]
  },
  {
   "cell_type": "code",
   "execution_count": 9,
   "id": "ca8061f7",
   "metadata": {
    "execution": {
     "iopub.execute_input": "2024-11-10T22:05:30.329364Z",
     "iopub.status.busy": "2024-11-10T22:05:30.328775Z",
     "iopub.status.idle": "2024-11-10T22:05:30.407259Z",
     "shell.execute_reply": "2024-11-10T22:05:30.405544Z"
    },
    "papermill": {
     "duration": 0.097524,
     "end_time": "2024-11-10T22:05:30.411107",
     "exception": false,
     "start_time": "2024-11-10T22:05:30.313583",
     "status": "completed"
    },
    "tags": []
   },
   "outputs": [
    {
     "name": "stdout",
     "output_type": "stream",
     "text": [
      "Объем датасета: 3123064\n",
      "Количество пользователей в train.csv: 20000\n",
      "Количество пользователей в sample_submission.csv: 13036\n",
      "Количество категорий в train.csv: 881\n",
      "Количество категорий в sample_submission.csv: 858\n"
     ]
    }
   ],
   "source": [
    "print('Объем датасета:', len(data))\n",
    "print('Количество пользователей в train.csv:', len(data['user_id'].unique()))\n",
    "print('Количество пользователей в sample_submission.csv:', len(submission['user_id'].unique()))\n",
    "print('Количество категорий в train.csv:', len(data['cart'].unique()))\n",
    "print('Количество категорий в sample_submission.csv:', len(submission['cart'].unique()))"
   ]
  },
  {
   "cell_type": "code",
   "execution_count": 10,
   "id": "3dbf6ed3",
   "metadata": {
    "execution": {
     "iopub.execute_input": "2024-11-10T22:05:30.439547Z",
     "iopub.status.busy": "2024-11-10T22:05:30.438968Z",
     "iopub.status.idle": "2024-11-10T22:05:30.469129Z",
     "shell.execute_reply": "2024-11-10T22:05:30.465958Z"
    },
    "papermill": {
     "duration": 0.049171,
     "end_time": "2024-11-10T22:05:30.473362",
     "exception": false,
     "start_time": "2024-11-10T22:05:30.424191",
     "status": "completed"
    },
    "tags": []
   },
   "outputs": [
    {
     "name": "stdout",
     "output_type": "stream",
     "text": [
      "<class 'pandas.core.frame.DataFrame'>\n",
      "RangeIndex: 3123064 entries, 0 to 3123063\n",
      "Data columns (total 3 columns):\n",
      " #   Column              Dtype         \n",
      "---  ------              -----         \n",
      " 0   user_id             int64         \n",
      " 1   order_completed_at  datetime64[ns]\n",
      " 2   cart                int64         \n",
      "dtypes: datetime64[ns](1), int64(2)\n",
      "memory usage: 71.5 MB\n"
     ]
    }
   ],
   "source": [
    "data.info()"
   ]
  },
  {
   "cell_type": "code",
   "execution_count": 11,
   "id": "e5feea37",
   "metadata": {
    "execution": {
     "iopub.execute_input": "2024-11-10T22:05:30.504086Z",
     "iopub.status.busy": "2024-11-10T22:05:30.503581Z",
     "iopub.status.idle": "2024-11-10T22:05:31.342196Z",
     "shell.execute_reply": "2024-11-10T22:05:31.339989Z"
    },
    "papermill": {
     "duration": 0.859303,
     "end_time": "2024-11-10T22:05:31.345825",
     "exception": false,
     "start_time": "2024-11-10T22:05:30.486522",
     "status": "completed"
    },
    "tags": []
   },
   "outputs": [
    {
     "data": {
      "image/png": "[encoded data removed]",
      "text/plain": [
       "<Figure size 640x480 with 1 Axes>"
      ]
     },
     "metadata": {},
     "output_type": "display_data"
    }
   ],
   "source": [
    "data.groupby(['user_id', 'order_completed_at'])['cart'].count().hist(bins=40)\n",
    "plt.title('Количество категорий в одном заказе')\n",
    "plt.show()"
   ]
  },
  {
   "cell_type": "code",
   "execution_count": 11,
   "id": "e364c0e6",
   "metadata": {
    "execution": {
     "iopub.execute_input": "2024-11-10T22:05:31.376531Z",
     "iopub.status.busy": "2024-11-10T22:05:31.375959Z",
     "iopub.status.idle": "2024-11-10T22:05:31.753834Z",
     "shell.execute_reply": "2024-11-10T22:05:31.752256Z"
    },
    "papermill": {
     "duration": 0.397418,
     "end_time": "2024-11-10T22:05:31.756984",
     "exception": false,
     "start_time": "2024-11-10T22:05:31.359566",
     "status": "completed"
    },
    "tags": []
   },
   "outputs": [
    {
     "data": {
      "text/plain": [
       "count    209406.000000\n",
       "mean         14.913918\n",
       "std           8.799745\n",
       "min           1.000000\n",
       "25%           9.000000\n",
       "50%          13.000000\n",
       "75%          19.000000\n",
       "max         120.000000\n",
       "Name: cart, dtype: float64"
      ]
     },
     "execution_count": 11,
     "metadata": {},
     "output_type": "execute_result"
    }
   ],
   "source": [
    "data.groupby(['user_id', 'order_completed_at'])['cart'].count().describe()"
   ]
  },
  {
   "cell_type": "code",
   "execution_count": 12,
   "id": "6ca7ea10",
   "metadata": {
    "execution": {
     "iopub.execute_input": "2024-11-10T22:05:31.788417Z",
     "iopub.status.busy": "2024-11-10T22:05:31.787846Z",
     "iopub.status.idle": "2024-11-10T22:05:32.401485Z",
     "shell.execute_reply": "2024-11-10T22:05:32.399891Z"
    },
    "papermill": {
     "duration": 0.633287,
     "end_time": "2024-11-10T22:05:32.404651",
     "exception": false,
     "start_time": "2024-11-10T22:05:31.771364",
     "status": "completed"
    },
    "tags": []
   },
   "outputs": [
    {
     "data": {
      "image/png": "[encoded data removed]",
      "text/plain": [
       "<Figure size 640x480 with 1 Axes>"
      ]
     },
     "metadata": {},
     "output_type": "display_data"
    }
   ],
   "source": [
    "data.groupby('user_id')['order_completed_at'].nunique().hist(bins=40)\n",
    "plt.title('Количество заказов у одного клиента')\n",
    "plt.show()"
   ]
  },
  {
   "cell_type": "code",
   "execution_count": 13,
   "id": "70de0e77",
   "metadata": {
    "execution": {
     "iopub.execute_input": "2024-11-10T22:05:32.436102Z",
     "iopub.status.busy": "2024-11-10T22:05:32.435597Z",
     "iopub.status.idle": "2024-11-10T22:05:32.742527Z",
     "shell.execute_reply": "2024-11-10T22:05:32.740866Z"
    },
    "papermill": {
     "duration": 0.327007,
     "end_time": "2024-11-10T22:05:32.745977",
     "exception": false,
     "start_time": "2024-11-10T22:05:32.418970",
     "status": "completed"
    },
    "tags": []
   },
   "outputs": [
    {
     "data": {
      "text/plain": [
       "count    20000.000000\n",
       "mean        10.470300\n",
       "std         11.905856\n",
       "min          3.000000\n",
       "25%          4.000000\n",
       "50%          6.000000\n",
       "75%         12.000000\n",
       "max        213.000000\n",
       "Name: order_completed_at, dtype: float64"
      ]
     },
     "execution_count": 13,
     "metadata": {},
     "output_type": "execute_result"
    }
   ],
   "source": [
    "data.groupby('user_id')['order_completed_at'].nunique().describe()"
   ]
  },
  {
   "cell_type": "code",
   "execution_count": 14,
   "id": "d2f27408",
   "metadata": {
    "execution": {
     "iopub.execute_input": "2024-11-10T22:05:32.778140Z",
     "iopub.status.busy": "2024-11-10T22:05:32.777599Z",
     "iopub.status.idle": "2024-11-10T22:05:33.213368Z",
     "shell.execute_reply": "2024-11-10T22:05:33.211572Z"
    },
    "papermill": {
     "duration": 0.455709,
     "end_time": "2024-11-10T22:05:33.216429",
     "exception": false,
     "start_time": "2024-11-10T22:05:32.760720",
     "status": "completed"
    },
    "tags": []
   },
   "outputs": [
    {
     "data": {
      "image/png": "[encoded data removed]",
      "text/plain": [
       "<Figure size 640x480 with 1 Axes>"
      ]
     },
     "metadata": {},
     "output_type": "display_data"
    }
   ],
   "source": [
    "data['count'] = 1\n",
    "\n",
    "data.groupby(['cart'])['count'].count().hist(bins=40)\n",
    "plt.title('Количество покупок одного продукта')\n",
    "plt.show()"
   ]
  },
  {
   "cell_type": "code",
   "execution_count": 15,
   "id": "67ba71b9",
   "metadata": {
    "execution": {
     "iopub.execute_input": "2024-11-10T22:05:33.248701Z",
     "iopub.status.busy": "2024-11-10T22:05:33.248092Z",
     "iopub.status.idle": "2024-11-10T22:05:33.357942Z",
     "shell.execute_reply": "2024-11-10T22:05:33.356098Z"
    },
    "papermill": {
     "duration": 0.130407,
     "end_time": "2024-11-10T22:05:33.361873",
     "exception": false,
     "start_time": "2024-11-10T22:05:33.231466",
     "status": "completed"
    },
    "tags": []
   },
   "outputs": [
    {
     "data": {
      "text/plain": [
       "count       881.000000\n",
       "mean       3544.908059\n",
       "std       10686.317664\n",
       "min           1.000000\n",
       "25%           7.000000\n",
       "50%          66.000000\n",
       "75%        1101.000000\n",
       "max      108877.000000\n",
       "Name: count, dtype: float64"
      ]
     },
     "execution_count": 15,
     "metadata": {},
     "output_type": "execute_result"
    }
   ],
   "source": [
    "data.groupby(['cart'])['count'].count().describe()"
   ]
  },
  {
   "cell_type": "markdown",
   "id": "75bdb9e5",
   "metadata": {},
   "source": [
    "## Гипотезы"
   ]
  },
  {
   "cell_type": "markdown",
   "id": "53bccf35",
   "metadata": {},
   "source": [
    "Гипотезы:\n",
    "\n",
    "**Часто ли пользователи повторяют категории?**\n",
    "\n",
    "Важный сигнал для предсказания будущего заказа.\n",
    "\n",
    "**Есть ли связь между числом заказов пользователя и количеством уникальных категорий?**\n",
    "\n",
    "Активные пользователи могут проявлять разные предпочтения."
   ]
  },
  {
   "cell_type": "code",
   "execution_count": 16,
   "id": "37bec042",
   "metadata": {},
   "outputs": [
    {
     "name": "stdout",
     "output_type": "stream",
     "text": [
      "cart\n",
      "57     0.84970\n",
      "14     0.80185\n",
      "61     0.79750\n",
      "398    0.76045\n",
      "23     0.74870\n",
      "22     0.72740\n",
      "84     0.71905\n",
      "383    0.70940\n",
      "382    0.69690\n",
      "420    0.67340\n",
      "Name: user_id, dtype: float64\n"
     ]
    }
   ],
   "source": [
    "# Гипотеза 1: Повторяемость категорий\n",
    "repeated_categories = data.groupby('cart')['user_id'].nunique() / data['user_id'].nunique()\n",
    "print(repeated_categories.sort_values(ascending=False).head(10))"
   ]
  },
  {
   "cell_type": "code",
   "execution_count": 17,
   "id": "0b3b94cf",
   "metadata": {},
   "outputs": [
    {
     "name": "stderr",
     "output_type": "stream",
     "text": [
      "C:\\Users\\rusbe\\AppData\\Local\\Temp\\ipykernel_27792\\473894106.py:10: FutureWarning: \n",
      "\n",
      "Passing `palette` without assigning `hue` is deprecated and will be removed in v0.14.0. Assign the `x` variable to `hue` and set `legend=False` for the same effect.\n",
      "\n",
      "  sns.barplot(x=top_10_categories['category_id'], y=top_10_categories['count'], palette='viridis')\n"
     ]
    },
    {
     "data": {
      "image/png": "[encoded data removed]",
      "text/plain": [
       "<Figure size 1000x600 with 1 Axes>"
      ]
     },
     "metadata": {},
     "output_type": "display_data"
    }
   ],
   "source": [
    "# Подсчет количества заказов каждой категории\n",
    "category_counts = data['cart'].value_counts().reset_index()\n",
    "category_counts.columns = ['category_id', 'count']\n",
    "\n",
    "# Топ-10 популярных категорий\n",
    "top_10_categories = category_counts.head(10)\n",
    "\n",
    "# Визуализация\n",
    "plt.figure(figsize=(10, 6))\n",
    "sns.barplot(x=top_10_categories['category_id'], y=top_10_categories['count'], palette='viridis')\n",
    "plt.title('Топ-10 популярных категорий')\n",
    "plt.xlabel('ID категории')\n",
    "plt.ylabel('Частота')\n",
    "plt.xticks(rotation=45)\n",
    "plt.show()"
   ]
  },
  {
   "cell_type": "markdown",
   "id": "f23632e0",
   "metadata": {},
   "source": [
    "Категория с ID 57 была включена в 84.97% заказов. Она может быть базовым \"товаром\", например хлеб или молоко. Возможно, нужно учитывать общую популярность категории в моделировании."
   ]
  },
  {
   "cell_type": "markdown",
   "id": "761147a8",
   "metadata": {
    "papermill": {
     "duration": 0.015494,
     "end_time": "2024-11-10T22:05:33.392869",
     "exception": false,
     "start_time": "2024-11-10T22:05:33.377375",
     "status": "completed"
    },
    "tags": []
   },
   "source": [
    "# Feature engineering"
   ]
  },
  {
   "cell_type": "markdown",
   "id": "ad69925c",
   "metadata": {},
   "source": [
    "Преобразуем данные для работы с последовательностями заказов"
   ]
  },
  {
   "cell_type": "code",
   "execution_count": 19,
   "id": "d273e559",
   "metadata": {
    "execution": {
     "iopub.execute_input": "2024-11-10T22:05:33.427634Z",
     "iopub.status.busy": "2024-11-10T22:05:33.427014Z",
     "iopub.status.idle": "2024-11-10T22:05:38.062806Z",
     "shell.execute_reply": "2024-11-10T22:05:38.061112Z"
    },
    "papermill": {
     "duration": 4.657663,
     "end_time": "2024-11-10T22:05:38.066401",
     "exception": false,
     "start_time": "2024-11-10T22:05:33.408738",
     "status": "completed"
    },
    "tags": []
   },
   "outputs": [],
   "source": [
    "order_dates = data.groupby('user_id')['order_completed_at'].unique()\n",
    "for i in order_dates.index:\n",
    "    order_dates.array[i] = sorted(order_dates.array[i])\n",
    "\n",
    "def get_order_number(args):\n",
    "    [user, order_date] = args\n",
    "    return order_dates[int(user)].index(order_date) + 1"
   ]
  },
  {
   "cell_type": "code",
   "execution_count": 20,
   "id": "4b495483",
   "metadata": {
    "execution": {
     "iopub.execute_input": "2024-11-10T22:05:38.099964Z",
     "iopub.status.busy": "2024-11-10T22:05:38.098480Z",
     "iopub.status.idle": "2024-11-10T22:06:32.728100Z",
     "shell.execute_reply": "2024-11-10T22:06:32.726841Z"
    },
    "papermill": {
     "duration": 54.649544,
     "end_time": "2024-11-10T22:06:32.731115",
     "exception": false,
     "start_time": "2024-11-10T22:05:38.081571",
     "status": "completed"
    },
    "tags": []
   },
   "outputs": [],
   "source": [
    "data['order_number'] = data[['user_id', 'order_completed_at']].apply(get_order_number, axis=1)\n",
    "count_orders = pd.DataFrame(data.groupby('user_id')['order_completed_at'].nunique()).reset_index().rename(columns={'order_completed_at': 'orders_count'})\n",
    "data = pd.merge(data, count_orders, on=['user_id'], how=\"left\")"
   ]
  },
  {
   "cell_type": "code",
   "execution_count": 21,
   "id": "e7d38e3b",
   "metadata": {
    "execution": {
     "iopub.execute_input": "2024-11-10T22:06:32.763805Z",
     "iopub.status.busy": "2024-11-10T22:06:32.763239Z",
     "iopub.status.idle": "2024-11-10T22:06:32.797920Z",
     "shell.execute_reply": "2024-11-10T22:06:32.796068Z"
    },
    "papermill": {
     "duration": 0.055438,
     "end_time": "2024-11-10T22:06:32.801414",
     "exception": false,
     "start_time": "2024-11-10T22:06:32.745976",
     "status": "completed"
    },
    "tags": []
   },
   "outputs": [
    {
     "data": {
      "text/html": [
       "<div>\n",
       "<style scoped>\n",
       "    .dataframe tbody tr th:only-of-type {\n",
       "        vertical-align: middle;\n",
       "    }\n",
       "\n",
       "    .dataframe tbody tr th {\n",
       "        vertical-align: top;\n",
       "    }\n",
       "\n",
       "    .dataframe thead th {\n",
       "        text-align: right;\n",
       "    }\n",
       "</style>\n",
       "<table border=\"1\" class=\"dataframe\">\n",
       "  <thead>\n",
       "    <tr style=\"text-align: right;\">\n",
       "      <th></th>\n",
       "      <th>user_id</th>\n",
       "      <th>order_completed_at</th>\n",
       "      <th>cart</th>\n",
       "      <th>count</th>\n",
       "      <th>order_number</th>\n",
       "      <th>orders_count</th>\n",
       "      <th>is_last_order</th>\n",
       "    </tr>\n",
       "  </thead>\n",
       "  <tbody>\n",
       "    <tr>\n",
       "      <th>0</th>\n",
       "      <td>2</td>\n",
       "      <td>2015-03-22 09:25:46</td>\n",
       "      <td>399</td>\n",
       "      <td>1</td>\n",
       "      <td>1</td>\n",
       "      <td>15</td>\n",
       "      <td>0</td>\n",
       "    </tr>\n",
       "    <tr>\n",
       "      <th>1</th>\n",
       "      <td>2</td>\n",
       "      <td>2015-03-22 09:25:46</td>\n",
       "      <td>14</td>\n",
       "      <td>1</td>\n",
       "      <td>1</td>\n",
       "      <td>15</td>\n",
       "      <td>0</td>\n",
       "    </tr>\n",
       "    <tr>\n",
       "      <th>2</th>\n",
       "      <td>2</td>\n",
       "      <td>2015-03-22 09:25:46</td>\n",
       "      <td>198</td>\n",
       "      <td>1</td>\n",
       "      <td>1</td>\n",
       "      <td>15</td>\n",
       "      <td>0</td>\n",
       "    </tr>\n",
       "    <tr>\n",
       "      <th>3</th>\n",
       "      <td>2</td>\n",
       "      <td>2015-03-22 09:25:46</td>\n",
       "      <td>88</td>\n",
       "      <td>1</td>\n",
       "      <td>1</td>\n",
       "      <td>15</td>\n",
       "      <td>0</td>\n",
       "    </tr>\n",
       "    <tr>\n",
       "      <th>4</th>\n",
       "      <td>2</td>\n",
       "      <td>2015-03-22 09:25:46</td>\n",
       "      <td>157</td>\n",
       "      <td>1</td>\n",
       "      <td>1</td>\n",
       "      <td>15</td>\n",
       "      <td>0</td>\n",
       "    </tr>\n",
       "  </tbody>\n",
       "</table>\n",
       "</div>"
      ],
      "text/plain": [
       "   user_id  order_completed_at  cart  count  order_number  orders_count  \\\n",
       "0        2 2015-03-22 09:25:46   399      1             1            15   \n",
       "1        2 2015-03-22 09:25:46    14      1             1            15   \n",
       "2        2 2015-03-22 09:25:46   198      1             1            15   \n",
       "3        2 2015-03-22 09:25:46    88      1             1            15   \n",
       "4        2 2015-03-22 09:25:46   157      1             1            15   \n",
       "\n",
       "   is_last_order  \n",
       "0              0  \n",
       "1              0  \n",
       "2              0  \n",
       "3              0  \n",
       "4              0  "
      ]
     },
     "execution_count": 21,
     "metadata": {},
     "output_type": "execute_result"
    }
   ],
   "source": [
    "data['is_last_order'] = data['order_number'] == data['orders_count']\n",
    "data['is_last_order'] = data['is_last_order'].astype(np.int64)\n",
    "\n",
    "data.head(5)"
   ]
  },
  {
   "cell_type": "markdown",
   "id": "a9a2be49",
   "metadata": {},
   "source": [
    "Разделяем данные на \"предыдущие\" и \"последние\" заказы"
   ]
  },
  {
   "cell_type": "code",
   "execution_count": 22,
   "id": "1611dbab",
   "metadata": {
    "execution": {
     "iopub.execute_input": "2024-11-10T22:06:32.838214Z",
     "iopub.status.busy": "2024-11-10T22:06:32.837626Z",
     "iopub.status.idle": "2024-11-10T22:06:33.075202Z",
     "shell.execute_reply": "2024-11-10T22:06:33.073718Z"
    },
    "papermill": {
     "duration": 0.261502,
     "end_time": "2024-11-10T22:06:33.078226",
     "exception": false,
     "start_time": "2024-11-10T22:06:32.816724",
     "status": "completed"
    },
    "tags": []
   },
   "outputs": [],
   "source": [
    "data_prev = data[data['is_last_order'] == 0].drop(columns=['order_completed_at', 'is_last_order'], axis=1)\n",
    "data_last = data[data['is_last_order'] == 1].drop(columns=['order_completed_at', 'order_number', 'orders_count', 'count'], axis=1)"
   ]
  },
  {
   "cell_type": "code",
   "execution_count": 23,
   "id": "02933c8d",
   "metadata": {
    "execution": {
     "iopub.execute_input": "2024-11-10T22:06:33.110406Z",
     "iopub.status.busy": "2024-11-10T22:06:33.109852Z",
     "iopub.status.idle": "2024-11-10T22:06:33.124163Z",
     "shell.execute_reply": "2024-11-10T22:06:33.122564Z"
    },
    "papermill": {
     "duration": 0.034017,
     "end_time": "2024-11-10T22:06:33.127062",
     "exception": false,
     "start_time": "2024-11-10T22:06:33.093045",
     "status": "completed"
    },
    "tags": []
   },
   "outputs": [
    {
     "data": {
      "text/html": [
       "<div>\n",
       "<style scoped>\n",
       "    .dataframe tbody tr th:only-of-type {\n",
       "        vertical-align: middle;\n",
       "    }\n",
       "\n",
       "    .dataframe tbody tr th {\n",
       "        vertical-align: top;\n",
       "    }\n",
       "\n",
       "    .dataframe thead th {\n",
       "        text-align: right;\n",
       "    }\n",
       "</style>\n",
       "<table border=\"1\" class=\"dataframe\">\n",
       "  <thead>\n",
       "    <tr style=\"text-align: right;\">\n",
       "      <th></th>\n",
       "      <th>user_id</th>\n",
       "      <th>cart</th>\n",
       "      <th>is_last_order</th>\n",
       "    </tr>\n",
       "  </thead>\n",
       "  <tbody>\n",
       "    <tr>\n",
       "      <th>1775824</th>\n",
       "      <td>12725</td>\n",
       "      <td>57</td>\n",
       "      <td>1</td>\n",
       "    </tr>\n",
       "    <tr>\n",
       "      <th>1775825</th>\n",
       "      <td>12725</td>\n",
       "      <td>99</td>\n",
       "      <td>1</td>\n",
       "    </tr>\n",
       "    <tr>\n",
       "      <th>1775826</th>\n",
       "      <td>12725</td>\n",
       "      <td>159</td>\n",
       "      <td>1</td>\n",
       "    </tr>\n",
       "    <tr>\n",
       "      <th>1775827</th>\n",
       "      <td>12725</td>\n",
       "      <td>420</td>\n",
       "      <td>1</td>\n",
       "    </tr>\n",
       "    <tr>\n",
       "      <th>1775828</th>\n",
       "      <td>12725</td>\n",
       "      <td>149</td>\n",
       "      <td>1</td>\n",
       "    </tr>\n",
       "  </tbody>\n",
       "</table>\n",
       "</div>"
      ],
      "text/plain": [
       "         user_id  cart  is_last_order\n",
       "1775824    12725    57              1\n",
       "1775825    12725    99              1\n",
       "1775826    12725   159              1\n",
       "1775827    12725   420              1\n",
       "1775828    12725   149              1"
      ]
     },
     "execution_count": 23,
     "metadata": {},
     "output_type": "execute_result"
    }
   ],
   "source": [
    "data_last.head(5)"
   ]
  },
  {
   "cell_type": "code",
   "execution_count": 24,
   "id": "dcb8f26f",
   "metadata": {
    "execution": {
     "iopub.execute_input": "2024-11-10T22:06:33.160387Z",
     "iopub.status.busy": "2024-11-10T22:06:33.159820Z",
     "iopub.status.idle": "2024-11-10T22:06:33.240965Z",
     "shell.execute_reply": "2024-11-10T22:06:33.239612Z"
    },
    "papermill": {
     "duration": 0.10157,
     "end_time": "2024-11-10T22:06:33.244004",
     "exception": false,
     "start_time": "2024-11-10T22:06:33.142434",
     "status": "completed"
    },
    "tags": []
   },
   "outputs": [],
   "source": [
    "data_prev['orders_count'] -= 1\n",
    "data.drop(columns=['order_completed_at', 'is_last_order'], axis=1, inplace=True)"
   ]
  },
  {
   "cell_type": "code",
   "execution_count": 25,
   "id": "ba9bab56",
   "metadata": {
    "execution": {
     "iopub.execute_input": "2024-11-10T22:06:33.280892Z",
     "iopub.status.busy": "2024-11-10T22:06:33.280266Z",
     "iopub.status.idle": "2024-11-10T22:06:33.296633Z",
     "shell.execute_reply": "2024-11-10T22:06:33.294961Z"
    },
    "papermill": {
     "duration": 0.039568,
     "end_time": "2024-11-10T22:06:33.300261",
     "exception": false,
     "start_time": "2024-11-10T22:06:33.260693",
     "status": "completed"
    },
    "tags": []
   },
   "outputs": [
    {
     "data": {
      "text/html": [
       "<div>\n",
       "<style scoped>\n",
       "    .dataframe tbody tr th:only-of-type {\n",
       "        vertical-align: middle;\n",
       "    }\n",
       "\n",
       "    .dataframe tbody tr th {\n",
       "        vertical-align: top;\n",
       "    }\n",
       "\n",
       "    .dataframe thead th {\n",
       "        text-align: right;\n",
       "    }\n",
       "</style>\n",
       "<table border=\"1\" class=\"dataframe\">\n",
       "  <thead>\n",
       "    <tr style=\"text-align: right;\">\n",
       "      <th></th>\n",
       "      <th>user_id</th>\n",
       "      <th>cart</th>\n",
       "      <th>count</th>\n",
       "      <th>order_number</th>\n",
       "      <th>orders_count</th>\n",
       "    </tr>\n",
       "  </thead>\n",
       "  <tbody>\n",
       "    <tr>\n",
       "      <th>0</th>\n",
       "      <td>2</td>\n",
       "      <td>399</td>\n",
       "      <td>1</td>\n",
       "      <td>1</td>\n",
       "      <td>14</td>\n",
       "    </tr>\n",
       "    <tr>\n",
       "      <th>1</th>\n",
       "      <td>2</td>\n",
       "      <td>14</td>\n",
       "      <td>1</td>\n",
       "      <td>1</td>\n",
       "      <td>14</td>\n",
       "    </tr>\n",
       "    <tr>\n",
       "      <th>2</th>\n",
       "      <td>2</td>\n",
       "      <td>198</td>\n",
       "      <td>1</td>\n",
       "      <td>1</td>\n",
       "      <td>14</td>\n",
       "    </tr>\n",
       "    <tr>\n",
       "      <th>3</th>\n",
       "      <td>2</td>\n",
       "      <td>88</td>\n",
       "      <td>1</td>\n",
       "      <td>1</td>\n",
       "      <td>14</td>\n",
       "    </tr>\n",
       "    <tr>\n",
       "      <th>4</th>\n",
       "      <td>2</td>\n",
       "      <td>157</td>\n",
       "      <td>1</td>\n",
       "      <td>1</td>\n",
       "      <td>14</td>\n",
       "    </tr>\n",
       "  </tbody>\n",
       "</table>\n",
       "</div>"
      ],
      "text/plain": [
       "   user_id  cart  count  order_number  orders_count\n",
       "0        2   399      1             1            14\n",
       "1        2    14      1             1            14\n",
       "2        2   198      1             1            14\n",
       "3        2    88      1             1            14\n",
       "4        2   157      1             1            14"
      ]
     },
     "execution_count": 25,
     "metadata": {},
     "output_type": "execute_result"
    }
   ],
   "source": [
    "data_prev.head(5)"
   ]
  },
  {
   "cell_type": "code",
   "execution_count": 26,
   "id": "4534c555",
   "metadata": {
    "execution": {
     "iopub.execute_input": "2024-11-10T22:06:33.336227Z",
     "iopub.status.busy": "2024-11-10T22:06:33.335647Z",
     "iopub.status.idle": "2024-11-10T22:06:33.352103Z",
     "shell.execute_reply": "2024-11-10T22:06:33.350434Z"
    },
    "papermill": {
     "duration": 0.039141,
     "end_time": "2024-11-10T22:06:33.355781",
     "exception": false,
     "start_time": "2024-11-10T22:06:33.316640",
     "status": "completed"
    },
    "tags": []
   },
   "outputs": [],
   "source": [
    "def create_data(X, data):\n",
    "\n",
    "    #distance_to_last_order - сколько заказов назад пользователь заказывал товар\n",
    "    data['distance_to_last_order'] = data['orders_count'] - data['order_number']\n",
    "    distances = pd.DataFrame(data.groupby(['user_id', 'cart'])['distance_to_last_order'].min()).reset_index()\n",
    "    X = pd.merge(X, distances, on=['user_id', 'cart'], how='left').dropna()\n",
    "    data.drop(columns='distance_to_last_order', axis=1, inplace=True)\n",
    "\n",
    "    #mean_order_size - средний размер заказа клиента\n",
    "    order_size = pd.DataFrame(data.groupby(['user_id', 'order_number'])['count'].count()).reset_index().rename(columns={'count': 'mean_order_size'})\n",
    "    mean_order_size = pd.DataFrame(round(order_size.groupby('user_id')['mean_order_size'].mean()))\n",
    "    X = pd.merge(X, mean_order_size, on=['user_id'], how='left').fillna(0)\n",
    "\n",
    "    #cart_count_all - сколько раз покупали данную категорию\n",
    "    cart_count_all = pd.DataFrame(data.groupby(['cart'])['count'].count()).reset_index().rename(columns={'count': 'cart_count_all'})\n",
    "    X = pd.merge(X, cart_count_all, on=['cart'], how='left').fillna(0)\n",
    "\n",
    "    #cart_count - сколько раз клиент покупал данный товар\n",
    "    count = pd.DataFrame(data.groupby(['user_id', 'cart'])['count'].count()).reset_index().rename(columns={'count': 'cart_count'})\n",
    "    X = pd.merge(X, count, on=['user_id', 'cart'], how='left').fillna(0)\n",
    "\n",
    "    #last_order_with_cart - номер последнего заказа пользователя с данной категорией\n",
    "    last_order = pd.DataFrame(data.groupby(['user_id', 'cart'])['order_number'].max()).reset_index().rename(columns={'order_number':'last_order_with_cart'})\n",
    "    X = pd.merge(X, last_order, on=['user_id', 'cart'], how='left').fillna(0)\n",
    "\n",
    "    return X"
   ]
  },
  {
   "cell_type": "code",
   "execution_count": 27,
   "id": "907f36be",
   "metadata": {
    "execution": {
     "iopub.execute_input": "2024-11-10T22:06:33.389634Z",
     "iopub.status.busy": "2024-11-10T22:06:33.389081Z",
     "iopub.status.idle": "2024-11-10T22:06:33.432802Z",
     "shell.execute_reply": "2024-11-10T22:06:33.431094Z"
    },
    "papermill": {
     "duration": 0.064728,
     "end_time": "2024-11-10T22:06:33.436274",
     "exception": false,
     "start_time": "2024-11-10T22:06:33.371546",
     "status": "completed"
    },
    "tags": []
   },
   "outputs": [],
   "source": [
    "X_train = submission.copy()\n",
    "X_test = submission.copy()"
   ]
  },
  {
   "cell_type": "code",
   "execution_count": 28,
   "id": "198c6b0b",
   "metadata": {
    "execution": {
     "iopub.execute_input": "2024-11-10T22:06:33.468692Z",
     "iopub.status.busy": "2024-11-10T22:06:33.468208Z",
     "iopub.status.idle": "2024-11-10T22:06:41.031112Z",
     "shell.execute_reply": "2024-11-10T22:06:41.029421Z"
    },
    "papermill": {
     "duration": 7.582958,
     "end_time": "2024-11-10T22:06:41.034374",
     "exception": false,
     "start_time": "2024-11-10T22:06:33.451416",
     "status": "completed"
    },
    "tags": []
   },
   "outputs": [],
   "source": [
    "X_train = create_data(X_train, data_prev)\n",
    "X_test = create_data(X_test, data)"
   ]
  },
  {
   "cell_type": "code",
   "execution_count": 29,
   "id": "b7f99439",
   "metadata": {
    "execution": {
     "iopub.execute_input": "2024-11-10T22:06:41.068520Z",
     "iopub.status.busy": "2024-11-10T22:06:41.067938Z",
     "iopub.status.idle": "2024-11-10T22:06:41.087606Z",
     "shell.execute_reply": "2024-11-10T22:06:41.086103Z"
    },
    "papermill": {
     "duration": 0.04067,
     "end_time": "2024-11-10T22:06:41.090936",
     "exception": false,
     "start_time": "2024-11-10T22:06:41.050266",
     "status": "completed"
    },
    "tags": []
   },
   "outputs": [
    {
     "data": {
      "text/html": [
       "<div>\n",
       "<style scoped>\n",
       "    .dataframe tbody tr th:only-of-type {\n",
       "        vertical-align: middle;\n",
       "    }\n",
       "\n",
       "    .dataframe tbody tr th {\n",
       "        vertical-align: top;\n",
       "    }\n",
       "\n",
       "    .dataframe thead th {\n",
       "        text-align: right;\n",
       "    }\n",
       "</style>\n",
       "<table border=\"1\" class=\"dataframe\">\n",
       "  <thead>\n",
       "    <tr style=\"text-align: right;\">\n",
       "      <th></th>\n",
       "      <th>user_id</th>\n",
       "      <th>cart</th>\n",
       "      <th>target</th>\n",
       "      <th>distance_to_last_order</th>\n",
       "      <th>mean_order_size</th>\n",
       "      <th>cart_count_all</th>\n",
       "      <th>cart_count</th>\n",
       "      <th>last_order_with_cart</th>\n",
       "    </tr>\n",
       "  </thead>\n",
       "  <tbody>\n",
       "    <tr>\n",
       "      <th>0</th>\n",
       "      <td>0</td>\n",
       "      <td>133</td>\n",
       "      <td>0</td>\n",
       "      <td>0.0</td>\n",
       "      <td>16.0</td>\n",
       "      <td>1328</td>\n",
       "      <td>1</td>\n",
       "      <td>2</td>\n",
       "    </tr>\n",
       "    <tr>\n",
       "      <th>1</th>\n",
       "      <td>0</td>\n",
       "      <td>5</td>\n",
       "      <td>1</td>\n",
       "      <td>0.0</td>\n",
       "      <td>16.0</td>\n",
       "      <td>27790</td>\n",
       "      <td>1</td>\n",
       "      <td>2</td>\n",
       "    </tr>\n",
       "    <tr>\n",
       "      <th>2</th>\n",
       "      <td>0</td>\n",
       "      <td>10</td>\n",
       "      <td>0</td>\n",
       "      <td>0.0</td>\n",
       "      <td>16.0</td>\n",
       "      <td>13307</td>\n",
       "      <td>1</td>\n",
       "      <td>2</td>\n",
       "    </tr>\n",
       "    <tr>\n",
       "      <th>3</th>\n",
       "      <td>0</td>\n",
       "      <td>396</td>\n",
       "      <td>1</td>\n",
       "      <td>0.0</td>\n",
       "      <td>16.0</td>\n",
       "      <td>24373</td>\n",
       "      <td>1</td>\n",
       "      <td>2</td>\n",
       "    </tr>\n",
       "    <tr>\n",
       "      <th>4</th>\n",
       "      <td>0</td>\n",
       "      <td>14</td>\n",
       "      <td>0</td>\n",
       "      <td>0.0</td>\n",
       "      <td>16.0</td>\n",
       "      <td>85164</td>\n",
       "      <td>2</td>\n",
       "      <td>2</td>\n",
       "    </tr>\n",
       "  </tbody>\n",
       "</table>\n",
       "</div>"
      ],
      "text/plain": [
       "   user_id  cart  target  distance_to_last_order  mean_order_size  \\\n",
       "0        0   133       0                     0.0             16.0   \n",
       "1        0     5       1                     0.0             16.0   \n",
       "2        0    10       0                     0.0             16.0   \n",
       "3        0   396       1                     0.0             16.0   \n",
       "4        0    14       0                     0.0             16.0   \n",
       "\n",
       "   cart_count_all  cart_count  last_order_with_cart  \n",
       "0            1328           1                     2  \n",
       "1           27790           1                     2  \n",
       "2           13307           1                     2  \n",
       "3           24373           1                     2  \n",
       "4           85164           2                     2  "
      ]
     },
     "execution_count": 29,
     "metadata": {},
     "output_type": "execute_result"
    }
   ],
   "source": [
    "X_train.head(5)"
   ]
  },
  {
   "cell_type": "code",
   "execution_count": 30,
   "id": "a4c90e67",
   "metadata": {
    "execution": {
     "iopub.execute_input": "2024-11-10T22:06:41.125816Z",
     "iopub.status.busy": "2024-11-10T22:06:41.125172Z",
     "iopub.status.idle": "2024-11-10T22:06:41.998530Z",
     "shell.execute_reply": "2024-11-10T22:06:41.996661Z"
    },
    "papermill": {
     "duration": 0.895008,
     "end_time": "2024-11-10T22:06:42.002130",
     "exception": false,
     "start_time": "2024-11-10T22:06:41.107122",
     "status": "completed"
    },
    "tags": []
   },
   "outputs": [
    {
     "data": {
      "text/html": [
       "<div>\n",
       "<style scoped>\n",
       "    .dataframe tbody tr th:only-of-type {\n",
       "        vertical-align: middle;\n",
       "    }\n",
       "\n",
       "    .dataframe tbody tr th {\n",
       "        vertical-align: top;\n",
       "    }\n",
       "\n",
       "    .dataframe thead th {\n",
       "        text-align: right;\n",
       "    }\n",
       "</style>\n",
       "<table border=\"1\" class=\"dataframe\">\n",
       "  <thead>\n",
       "    <tr style=\"text-align: right;\">\n",
       "      <th></th>\n",
       "      <th>user_id</th>\n",
       "      <th>cart</th>\n",
       "      <th>orders_count</th>\n",
       "    </tr>\n",
       "  </thead>\n",
       "  <tbody>\n",
       "    <tr>\n",
       "      <th>0</th>\n",
       "      <td>2</td>\n",
       "      <td>399</td>\n",
       "      <td>15</td>\n",
       "    </tr>\n",
       "    <tr>\n",
       "      <th>1</th>\n",
       "      <td>2</td>\n",
       "      <td>14</td>\n",
       "      <td>15</td>\n",
       "    </tr>\n",
       "    <tr>\n",
       "      <th>2</th>\n",
       "      <td>2</td>\n",
       "      <td>198</td>\n",
       "      <td>15</td>\n",
       "    </tr>\n",
       "    <tr>\n",
       "      <th>3</th>\n",
       "      <td>2</td>\n",
       "      <td>88</td>\n",
       "      <td>15</td>\n",
       "    </tr>\n",
       "    <tr>\n",
       "      <th>4</th>\n",
       "      <td>2</td>\n",
       "      <td>157</td>\n",
       "      <td>15</td>\n",
       "    </tr>\n",
       "  </tbody>\n",
       "</table>\n",
       "</div>"
      ],
      "text/plain": [
       "   user_id  cart  orders_count\n",
       "0        2   399            15\n",
       "1        2    14            15\n",
       "2        2   198            15\n",
       "3        2    88            15\n",
       "4        2   157            15"
      ]
     },
     "execution_count": 30,
     "metadata": {},
     "output_type": "execute_result"
    }
   ],
   "source": [
    "data_prev_orders_count = data_prev.drop(columns=['order_number', 'count'], axis=1)\n",
    "data_orders_count = data.drop(columns=['order_number', 'count'], axis=1)\n",
    "\n",
    "data_prev_orders_count = data_prev_orders_count.drop_duplicates()\n",
    "data_orders_count = data_orders_count.drop_duplicates()\n",
    "\n",
    "data_orders_count.head(5)"
   ]
  },
  {
   "cell_type": "markdown",
   "id": "dd6673b0",
   "metadata": {},
   "source": [
    "Формируем признаки для обучающей выборки"
   ]
  },
  {
   "cell_type": "code",
   "execution_count": 31,
   "id": "084336ae",
   "metadata": {
    "execution": {
     "iopub.execute_input": "2024-11-10T22:06:42.038065Z",
     "iopub.status.busy": "2024-11-10T22:06:42.036413Z",
     "iopub.status.idle": "2024-11-10T22:06:42.921857Z",
     "shell.execute_reply": "2024-11-10T22:06:42.920331Z"
    },
    "papermill": {
     "duration": 0.906446,
     "end_time": "2024-11-10T22:06:42.925065",
     "exception": false,
     "start_time": "2024-11-10T22:06:42.018619",
     "status": "completed"
    },
    "tags": []
   },
   "outputs": [],
   "source": [
    "X_train = pd.merge(X_train, data_prev_orders_count, on=['user_id', 'cart'], how='left')\n",
    "X_test = pd.merge(X_test, data_orders_count, on=['user_id', 'cart'], how='left')"
   ]
  },
  {
   "cell_type": "markdown",
   "id": "9471ad6c",
   "metadata": {},
   "source": [
    "cart_frequency - частота категории в заказах пользователя"
   ]
  },
  {
   "cell_type": "code",
   "execution_count": 32,
   "id": "1b8ef8d5",
   "metadata": {
    "execution": {
     "iopub.execute_input": "2024-11-10T22:06:42.959679Z",
     "iopub.status.busy": "2024-11-10T22:06:42.959092Z",
     "iopub.status.idle": "2024-11-10T22:06:42.980913Z",
     "shell.execute_reply": "2024-11-10T22:06:42.979473Z"
    },
    "papermill": {
     "duration": 0.04354,
     "end_time": "2024-11-10T22:06:42.984590",
     "exception": false,
     "start_time": "2024-11-10T22:06:42.941050",
     "status": "completed"
    },
    "tags": []
   },
   "outputs": [],
   "source": [
    "\n",
    "\n",
    "X_train['cart_frequency'] = X_train['cart_count'] / X_train['orders_count']\n",
    "X_test['cart_frequency'] = X_test['cart_count'] / X_test['orders_count']"
   ]
  },
  {
   "cell_type": "code",
   "execution_count": 33,
   "id": "b32bcb44",
   "metadata": {
    "execution": {
     "iopub.execute_input": "2024-11-10T22:06:43.021549Z",
     "iopub.status.busy": "2024-11-10T22:06:43.020956Z",
     "iopub.status.idle": "2024-11-10T22:06:43.164681Z",
     "shell.execute_reply": "2024-11-10T22:06:43.162819Z"
    },
    "papermill": {
     "duration": 0.166466,
     "end_time": "2024-11-10T22:06:43.168101",
     "exception": false,
     "start_time": "2024-11-10T22:06:43.001635",
     "status": "completed"
    },
    "tags": []
   },
   "outputs": [
    {
     "data": {
      "text/plain": [
       "(189406, 209406)"
      ]
     },
     "execution_count": 33,
     "metadata": {},
     "output_type": "execute_result"
    }
   ],
   "source": [
    "all_orders_prev = data_prev_orders_count.drop(columns='cart', axis=1).drop_duplicates()\n",
    "number_of_all_orders_prev = sum(all_orders_prev['orders_count'])\n",
    "\n",
    "all_orders = data_orders_count.drop(columns='cart', axis=1).drop_duplicates()\n",
    "number_of_all_orders = sum(all_orders['orders_count'])\n",
    "number_of_all_orders_prev, number_of_all_orders"
   ]
  },
  {
   "cell_type": "code",
   "execution_count": 34,
   "id": "b8792a6c",
   "metadata": {
    "execution": {
     "iopub.execute_input": "2024-11-10T22:06:43.204440Z",
     "iopub.status.busy": "2024-11-10T22:06:43.203848Z",
     "iopub.status.idle": "2024-11-10T22:06:43.222571Z",
     "shell.execute_reply": "2024-11-10T22:06:43.220664Z"
    },
    "papermill": {
     "duration": 0.040698,
     "end_time": "2024-11-10T22:06:43.226258",
     "exception": false,
     "start_time": "2024-11-10T22:06:43.185560",
     "status": "completed"
    },
    "tags": []
   },
   "outputs": [],
   "source": [
    "X_train['cart_freq_all'] = X_train['cart_count_all'] / number_of_all_orders_prev\n",
    "X_test['cart_freq_all'] = X_test['cart_count_all'] / number_of_all_orders"
   ]
  },
  {
   "cell_type": "code",
   "execution_count": 35,
   "id": "ab1db102",
   "metadata": {
    "execution": {
     "iopub.execute_input": "2024-11-10T22:06:43.262386Z",
     "iopub.status.busy": "2024-11-10T22:06:43.261776Z",
     "iopub.status.idle": "2024-11-10T22:06:43.284104Z",
     "shell.execute_reply": "2024-11-10T22:06:43.281860Z"
    },
    "papermill": {
     "duration": 0.044418,
     "end_time": "2024-11-10T22:06:43.287436",
     "exception": false,
     "start_time": "2024-11-10T22:06:43.243018",
     "status": "completed"
    },
    "tags": []
   },
   "outputs": [
    {
     "data": {
      "text/html": [
       "<div>\n",
       "<style scoped>\n",
       "    .dataframe tbody tr th:only-of-type {\n",
       "        vertical-align: middle;\n",
       "    }\n",
       "\n",
       "    .dataframe tbody tr th {\n",
       "        vertical-align: top;\n",
       "    }\n",
       "\n",
       "    .dataframe thead th {\n",
       "        text-align: right;\n",
       "    }\n",
       "</style>\n",
       "<table border=\"1\" class=\"dataframe\">\n",
       "  <thead>\n",
       "    <tr style=\"text-align: right;\">\n",
       "      <th></th>\n",
       "      <th>user_id</th>\n",
       "      <th>cart</th>\n",
       "      <th>target</th>\n",
       "      <th>distance_to_last_order</th>\n",
       "      <th>mean_order_size</th>\n",
       "      <th>cart_count_all</th>\n",
       "      <th>cart_count</th>\n",
       "      <th>last_order_with_cart</th>\n",
       "      <th>orders_count</th>\n",
       "      <th>cart_frequency</th>\n",
       "      <th>cart_freq_all</th>\n",
       "    </tr>\n",
       "  </thead>\n",
       "  <tbody>\n",
       "    <tr>\n",
       "      <th>0</th>\n",
       "      <td>0</td>\n",
       "      <td>133</td>\n",
       "      <td>0</td>\n",
       "      <td>0.0</td>\n",
       "      <td>16.0</td>\n",
       "      <td>1328</td>\n",
       "      <td>1</td>\n",
       "      <td>2</td>\n",
       "      <td>2</td>\n",
       "      <td>0.5</td>\n",
       "      <td>0.007011</td>\n",
       "    </tr>\n",
       "    <tr>\n",
       "      <th>1</th>\n",
       "      <td>0</td>\n",
       "      <td>5</td>\n",
       "      <td>1</td>\n",
       "      <td>0.0</td>\n",
       "      <td>16.0</td>\n",
       "      <td>27790</td>\n",
       "      <td>1</td>\n",
       "      <td>2</td>\n",
       "      <td>2</td>\n",
       "      <td>0.5</td>\n",
       "      <td>0.146722</td>\n",
       "    </tr>\n",
       "    <tr>\n",
       "      <th>2</th>\n",
       "      <td>0</td>\n",
       "      <td>10</td>\n",
       "      <td>0</td>\n",
       "      <td>0.0</td>\n",
       "      <td>16.0</td>\n",
       "      <td>13307</td>\n",
       "      <td>1</td>\n",
       "      <td>2</td>\n",
       "      <td>2</td>\n",
       "      <td>0.5</td>\n",
       "      <td>0.070256</td>\n",
       "    </tr>\n",
       "    <tr>\n",
       "      <th>3</th>\n",
       "      <td>0</td>\n",
       "      <td>396</td>\n",
       "      <td>1</td>\n",
       "      <td>0.0</td>\n",
       "      <td>16.0</td>\n",
       "      <td>24373</td>\n",
       "      <td>1</td>\n",
       "      <td>2</td>\n",
       "      <td>2</td>\n",
       "      <td>0.5</td>\n",
       "      <td>0.128681</td>\n",
       "    </tr>\n",
       "    <tr>\n",
       "      <th>4</th>\n",
       "      <td>0</td>\n",
       "      <td>14</td>\n",
       "      <td>0</td>\n",
       "      <td>0.0</td>\n",
       "      <td>16.0</td>\n",
       "      <td>85164</td>\n",
       "      <td>2</td>\n",
       "      <td>2</td>\n",
       "      <td>2</td>\n",
       "      <td>1.0</td>\n",
       "      <td>0.449637</td>\n",
       "    </tr>\n",
       "  </tbody>\n",
       "</table>\n",
       "</div>"
      ],
      "text/plain": [
       "   user_id  cart  target  distance_to_last_order  mean_order_size  \\\n",
       "0        0   133       0                     0.0             16.0   \n",
       "1        0     5       1                     0.0             16.0   \n",
       "2        0    10       0                     0.0             16.0   \n",
       "3        0   396       1                     0.0             16.0   \n",
       "4        0    14       0                     0.0             16.0   \n",
       "\n",
       "   cart_count_all  cart_count  last_order_with_cart  orders_count  \\\n",
       "0            1328           1                     2             2   \n",
       "1           27790           1                     2             2   \n",
       "2           13307           1                     2             2   \n",
       "3           24373           1                     2             2   \n",
       "4           85164           2                     2             2   \n",
       "\n",
       "   cart_frequency  cart_freq_all  \n",
       "0             0.5       0.007011  \n",
       "1             0.5       0.146722  \n",
       "2             0.5       0.070256  \n",
       "3             0.5       0.128681  \n",
       "4             1.0       0.449637  "
      ]
     },
     "execution_count": 35,
     "metadata": {},
     "output_type": "execute_result"
    }
   ],
   "source": [
    "X_train.head(5)"
   ]
  },
  {
   "cell_type": "code",
   "execution_count": 36,
   "id": "dfe70444",
   "metadata": {
    "execution": {
     "iopub.execute_input": "2024-11-10T22:06:43.325596Z",
     "iopub.status.busy": "2024-11-10T22:06:43.324956Z",
     "iopub.status.idle": "2024-11-10T22:06:43.748979Z",
     "shell.execute_reply": "2024-11-10T22:06:43.747347Z"
    },
    "papermill": {
     "duration": 0.447906,
     "end_time": "2024-11-10T22:06:43.752531",
     "exception": false,
     "start_time": "2024-11-10T22:06:43.304625",
     "status": "completed"
    },
    "tags": []
   },
   "outputs": [],
   "source": [
    "y_train = pd.DataFrame(pd.merge(X_train, data_last, on=['user_id', 'cart'], how='left')['is_last_order'].fillna(0).astype(np.int64))"
   ]
  },
  {
   "cell_type": "code",
   "execution_count": 39,
   "id": "feeffb44",
   "metadata": {},
   "outputs": [
    {
     "name": "stdout",
     "output_type": "stream",
     "text": [
      "<class 'pandas.core.frame.DataFrame'>\n",
      "RangeIndex: 3123064 entries, 0 to 3123063\n",
      "Data columns (total 5 columns):\n",
      " #   Column        Dtype\n",
      "---  ------        -----\n",
      " 0   user_id       int64\n",
      " 1   cart          int64\n",
      " 2   count         int64\n",
      " 3   order_number  int64\n",
      " 4   orders_count  int64\n",
      "dtypes: int64(5)\n",
      "memory usage: 119.1 MB\n"
     ]
    }
   ],
   "source": [
    "data.info()"
   ]
  },
  {
   "cell_type": "markdown",
   "id": "ef5e2e59",
   "metadata": {
    "papermill": {
     "duration": 0.016945,
     "end_time": "2024-11-10T22:06:43.785692",
     "exception": false,
     "start_time": "2024-11-10T22:06:43.768747",
     "status": "completed"
    },
    "tags": []
   },
   "source": [
    "## Обучение моделей"
   ]
  },
  {
   "cell_type": "code",
   "execution_count": 40,
   "id": "bdc624b2",
   "metadata": {
    "execution": {
     "iopub.execute_input": "2024-11-10T22:06:43.822535Z",
     "iopub.status.busy": "2024-11-10T22:06:43.821965Z",
     "iopub.status.idle": "2024-11-10T22:06:46.119423Z",
     "shell.execute_reply": "2024-11-10T22:06:46.117416Z"
    },
    "papermill": {
     "duration": 2.320096,
     "end_time": "2024-11-10T22:06:46.123155",
     "exception": false,
     "start_time": "2024-11-10T22:06:43.803059",
     "status": "completed"
    },
    "tags": []
   },
   "outputs": [],
   "source": [
    "from sklearn.model_selection import train_test_split, GridSearchCV\n",
    "from sklearn.metrics import f1_score\n",
    "import xgboost as xgb"
   ]
  },
  {
   "cell_type": "code",
   "execution_count": 43,
   "id": "002d4e88",
   "metadata": {
    "execution": {
     "iopub.execute_input": "2024-11-10T22:06:46.164738Z",
     "iopub.status.busy": "2024-11-10T22:06:46.163942Z",
     "iopub.status.idle": "2024-11-10T22:12:35.029999Z",
     "shell.execute_reply": "2024-11-10T22:12:35.028038Z"
    },
    "papermill": {
     "duration": 348.908242,
     "end_time": "2024-11-10T22:12:35.049819",
     "exception": false,
     "start_time": "2024-11-10T22:06:46.141577",
     "status": "completed"
    },
    "tags": []
   },
   "outputs": [
    {
     "data": {
      "text/html": [
       "<style>#sk-container-id-1 {\n",
       "  /* Definition of color scheme common for light and dark mode */\n",
       "  --sklearn-color-text: black;\n",
       "  --sklearn-color-line: gray;\n",
       "  /* Definition of color scheme for unfitted estimators */\n",
       "  --sklearn-color-unfitted-level-0: #fff5e6;\n",
       "  --sklearn-color-unfitted-level-1: #f6e4d2;\n",
       "  --sklearn-color-unfitted-level-2: #ffe0b3;\n",
       "  --sklearn-color-unfitted-level-3: chocolate;\n",
       "  /* Definition of color scheme for fitted estimators */\n",
       "  --sklearn-color-fitted-level-0: #f0f8ff;\n",
       "  --sklearn-color-fitted-level-1: #d4ebff;\n",
       "  --sklearn-color-fitted-level-2: #b3dbfd;\n",
       "  --sklearn-color-fitted-level-3: cornflowerblue;\n",
       "\n",
       "  /* Specific color for light theme */\n",
       "  --sklearn-color-text-on-default-background: var(--sg-text-color, var(--theme-code-foreground, var(--jp-content-font-color1, black)));\n",
       "  --sklearn-color-background: var(--sg-background-color, var(--theme-background, var(--jp-layout-color0, white)));\n",
       "  --sklearn-color-border-box: var(--sg-text-color, var(--theme-code-foreground, var(--jp-content-font-color1, black)));\n",
       "  --sklearn-color-icon: #696969;\n",
       "\n",
       "  @media (prefers-color-scheme: dark) {\n",
       "    /* Redefinition of color scheme for dark theme */\n",
       "    --sklearn-color-text-on-default-background: var(--sg-text-color, var(--theme-code-foreground, var(--jp-content-font-color1, white)));\n",
       "    --sklearn-color-background: var(--sg-background-color, var(--theme-background, var(--jp-layout-color0, #111)));\n",
       "    --sklearn-color-border-box: var(--sg-text-color, var(--theme-code-foreground, var(--jp-content-font-color1, white)));\n",
       "    --sklearn-color-icon: #878787;\n",
       "  }\n",
       "}\n",
       "\n",
       "#sk-container-id-1 {\n",
       "  color: var(--sklearn-color-text);\n",
       "}\n",
       "\n",
       "#sk-container-id-1 pre {\n",
       "  padding: 0;\n",
       "}\n",
       "\n",
       "#sk-container-id-1 input.sk-hidden--visually {\n",
       "  border: 0;\n",
       "  clip: rect(1px 1px 1px 1px);\n",
       "  clip: rect(1px, 1px, 1px, 1px);\n",
       "  height: 1px;\n",
       "  margin: -1px;\n",
       "  overflow: hidden;\n",
       "  padding: 0;\n",
       "  position: absolute;\n",
       "  width: 1px;\n",
       "}\n",
       "\n",
       "#sk-container-id-1 div.sk-dashed-wrapped {\n",
       "  border: 1px dashed var(--sklearn-color-line);\n",
       "  margin: 0 0.4em 0.5em 0.4em;\n",
       "  box-sizing: border-box;\n",
       "  padding-bottom: 0.4em;\n",
       "  background-color: var(--sklearn-color-background);\n",
       "}\n",
       "\n",
       "#sk-container-id-1 div.sk-container {\n",
       "  /* jupyter's `normalize.less` sets `[hidden] { display: none; }`\n",
       "     but bootstrap.min.css set `[hidden] { display: none !important; }`\n",
       "     so we also need the `!important` here to be able to override the\n",
       "     default hidden behavior on the sphinx rendered scikit-learn.org.\n",
       "     See: https://github.com/scikit-learn/scikit-learn/issues/21755 */\n",
       "  display: inline-block !important;\n",
       "  position: relative;\n",
       "}\n",
       "\n",
       "#sk-container-id-1 div.sk-text-repr-fallback {\n",
       "  display: none;\n",
       "}\n",
       "\n",
       "div.sk-parallel-item,\n",
       "div.sk-serial,\n",
       "div.sk-item {\n",
       "  /* draw centered vertical line to link estimators */\n",
       "  background-image: linear-gradient(var(--sklearn-color-text-on-default-background), var(--sklearn-color-text-on-default-background));\n",
       "  background-size: 2px 100%;\n",
       "  background-repeat: no-repeat;\n",
       "  background-position: center center;\n",
       "}\n",
       "\n",
       "/* Parallel-specific style estimator block */\n",
       "\n",
       "#sk-container-id-1 div.sk-parallel-item::after {\n",
       "  content: \"\";\n",
       "  width: 100%;\n",
       "  border-bottom: 2px solid var(--sklearn-color-text-on-default-background);\n",
       "  flex-grow: 1;\n",
       "}\n",
       "\n",
       "#sk-container-id-1 div.sk-parallel {\n",
       "  display: flex;\n",
       "  align-items: stretch;\n",
       "  justify-content: center;\n",
       "  background-color: var(--sklearn-color-background);\n",
       "  position: relative;\n",
       "}\n",
       "\n",
       "#sk-container-id-1 div.sk-parallel-item {\n",
       "  display: flex;\n",
       "  flex-direction: column;\n",
       "}\n",
       "\n",
       "#sk-container-id-1 div.sk-parallel-item:first-child::after {\n",
       "  align-self: flex-end;\n",
       "  width: 50%;\n",
       "}\n",
       "\n",
       "#sk-container-id-1 div.sk-parallel-item:last-child::after {\n",
       "  align-self: flex-start;\n",
       "  width: 50%;\n",
       "}\n",
       "\n",
       "#sk-container-id-1 div.sk-parallel-item:only-child::after {\n",
       "  width: 0;\n",
       "}\n",
       "\n",
       "/* Serial-specific style estimator block */\n",
       "\n",
       "#sk-container-id-1 div.sk-serial {\n",
       "  display: flex;\n",
       "  flex-direction: column;\n",
       "  align-items: center;\n",
       "  background-color: var(--sklearn-color-background);\n",
       "  padding-right: 1em;\n",
       "  padding-left: 1em;\n",
       "}\n",
       "\n",
       "\n",
       "/* Toggleable style: style used for estimator/Pipeline/ColumnTransformer box that is\n",
       "clickable and can be expanded/collapsed.\n",
       "- Pipeline and ColumnTransformer use this feature and define the default style\n",
       "- Estimators will overwrite some part of the style using the `sk-estimator` class\n",
       "*/\n",
       "\n",
       "/* Pipeline and ColumnTransformer style (default) */\n",
       "\n",
       "#sk-container-id-1 div.sk-toggleable {\n",
       "  /* Default theme specific background. It is overwritten whether we have a\n",
       "  specific estimator or a Pipeline/ColumnTransformer */\n",
       "  background-color: var(--sklearn-color-background);\n",
       "}\n",
       "\n",
       "/* Toggleable label */\n",
       "#sk-container-id-1 label.sk-toggleable__label {\n",
       "  cursor: pointer;\n",
       "  display: block;\n",
       "  width: 100%;\n",
       "  margin-bottom: 0;\n",
       "  padding: 0.5em;\n",
       "  box-sizing: border-box;\n",
       "  text-align: center;\n",
       "}\n",
       "\n",
       "#sk-container-id-1 label.sk-toggleable__label-arrow:before {\n",
       "  /* Arrow on the left of the label */\n",
       "  content: \"▸\";\n",
       "  float: left;\n",
       "  margin-right: 0.25em;\n",
       "  color: var(--sklearn-color-icon);\n",
       "}\n",
       "\n",
       "#sk-container-id-1 label.sk-toggleable__label-arrow:hover:before {\n",
       "  color: var(--sklearn-color-text);\n",
       "}\n",
       "\n",
       "/* Toggleable content - dropdown */\n",
       "\n",
       "#sk-container-id-1 div.sk-toggleable__content {\n",
       "  max-height: 0;\n",
       "  max-width: 0;\n",
       "  overflow: hidden;\n",
       "  text-align: left;\n",
       "  /* unfitted */\n",
       "  background-color: var(--sklearn-color-unfitted-level-0);\n",
       "}\n",
       "\n",
       "#sk-container-id-1 div.sk-toggleable__content.fitted {\n",
       "  /* fitted */\n",
       "  background-color: var(--sklearn-color-fitted-level-0);\n",
       "}\n",
       "\n",
       "#sk-container-id-1 div.sk-toggleable__content pre {\n",
       "  margin: 0.2em;\n",
       "  border-radius: 0.25em;\n",
       "  color: var(--sklearn-color-text);\n",
       "  /* unfitted */\n",
       "  background-color: var(--sklearn-color-unfitted-level-0);\n",
       "}\n",
       "\n",
       "#sk-container-id-1 div.sk-toggleable__content.fitted pre {\n",
       "  /* unfitted */\n",
       "  background-color: var(--sklearn-color-fitted-level-0);\n",
       "}\n",
       "\n",
       "#sk-container-id-1 input.sk-toggleable__control:checked~div.sk-toggleable__content {\n",
       "  /* Expand drop-down */\n",
       "  max-height: 200px;\n",
       "  max-width: 100%;\n",
       "  overflow: auto;\n",
       "}\n",
       "\n",
       "#sk-container-id-1 input.sk-toggleable__control:checked~label.sk-toggleable__label-arrow:before {\n",
       "  content: \"▾\";\n",
       "}\n",
       "\n",
       "/* Pipeline/ColumnTransformer-specific style */\n",
       "\n",
       "#sk-container-id-1 div.sk-label input.sk-toggleable__control:checked~label.sk-toggleable__label {\n",
       "  color: var(--sklearn-color-text);\n",
       "  background-color: var(--sklearn-color-unfitted-level-2);\n",
       "}\n",
       "\n",
       "#sk-container-id-1 div.sk-label.fitted input.sk-toggleable__control:checked~label.sk-toggleable__label {\n",
       "  background-color: var(--sklearn-color-fitted-level-2);\n",
       "}\n",
       "\n",
       "/* Estimator-specific style */\n",
       "\n",
       "/* Colorize estimator box */\n",
       "#sk-container-id-1 div.sk-estimator input.sk-toggleable__control:checked~label.sk-toggleable__label {\n",
       "  /* unfitted */\n",
       "  background-color: var(--sklearn-color-unfitted-level-2);\n",
       "}\n",
       "\n",
       "#sk-container-id-1 div.sk-estimator.fitted input.sk-toggleable__control:checked~label.sk-toggleable__label {\n",
       "  /* fitted */\n",
       "  background-color: var(--sklearn-color-fitted-level-2);\n",
       "}\n",
       "\n",
       "#sk-container-id-1 div.sk-label label.sk-toggleable__label,\n",
       "#sk-container-id-1 div.sk-label label {\n",
       "  /* The background is the default theme color */\n",
       "  color: var(--sklearn-color-text-on-default-background);\n",
       "}\n",
       "\n",
       "/* On hover, darken the color of the background */\n",
       "#sk-container-id-1 div.sk-label:hover label.sk-toggleable__label {\n",
       "  color: var(--sklearn-color-text);\n",
       "  background-color: var(--sklearn-color-unfitted-level-2);\n",
       "}\n",
       "\n",
       "/* Label box, darken color on hover, fitted */\n",
       "#sk-container-id-1 div.sk-label.fitted:hover label.sk-toggleable__label.fitted {\n",
       "  color: var(--sklearn-color-text);\n",
       "  background-color: var(--sklearn-color-fitted-level-2);\n",
       "}\n",
       "\n",
       "/* Estimator label */\n",
       "\n",
       "#sk-container-id-1 div.sk-label label {\n",
       "  font-family: monospace;\n",
       "  font-weight: bold;\n",
       "  display: inline-block;\n",
       "  line-height: 1.2em;\n",
       "}\n",
       "\n",
       "#sk-container-id-1 div.sk-label-container {\n",
       "  text-align: center;\n",
       "}\n",
       "\n",
       "/* Estimator-specific */\n",
       "#sk-container-id-1 div.sk-estimator {\n",
       "  font-family: monospace;\n",
       "  border: 1px dotted var(--sklearn-color-border-box);\n",
       "  border-radius: 0.25em;\n",
       "  box-sizing: border-box;\n",
       "  margin-bottom: 0.5em;\n",
       "  /* unfitted */\n",
       "  background-color: var(--sklearn-color-unfitted-level-0);\n",
       "}\n",
       "\n",
       "#sk-container-id-1 div.sk-estimator.fitted {\n",
       "  /* fitted */\n",
       "  background-color: var(--sklearn-color-fitted-level-0);\n",
       "}\n",
       "\n",
       "/* on hover */\n",
       "#sk-container-id-1 div.sk-estimator:hover {\n",
       "  /* unfitted */\n",
       "  background-color: var(--sklearn-color-unfitted-level-2);\n",
       "}\n",
       "\n",
       "#sk-container-id-1 div.sk-estimator.fitted:hover {\n",
       "  /* fitted */\n",
       "  background-color: var(--sklearn-color-fitted-level-2);\n",
       "}\n",
       "\n",
       "/* Specification for estimator info (e.g. \"i\" and \"?\") */\n",
       "\n",
       "/* Common style for \"i\" and \"?\" */\n",
       "\n",
       ".sk-estimator-doc-link,\n",
       "a:link.sk-estimator-doc-link,\n",
       "a:visited.sk-estimator-doc-link {\n",
       "  float: right;\n",
       "  font-size: smaller;\n",
       "  line-height: 1em;\n",
       "  font-family: monospace;\n",
       "  background-color: var(--sklearn-color-background);\n",
       "  border-radius: 1em;\n",
       "  height: 1em;\n",
       "  width: 1em;\n",
       "  text-decoration: none !important;\n",
       "  margin-left: 1ex;\n",
       "  /* unfitted */\n",
       "  border: var(--sklearn-color-unfitted-level-1) 1pt solid;\n",
       "  color: var(--sklearn-color-unfitted-level-1);\n",
       "}\n",
       "\n",
       ".sk-estimator-doc-link.fitted,\n",
       "a:link.sk-estimator-doc-link.fitted,\n",
       "a:visited.sk-estimator-doc-link.fitted {\n",
       "  /* fitted */\n",
       "  border: var(--sklearn-color-fitted-level-1) 1pt solid;\n",
       "  color: var(--sklearn-color-fitted-level-1);\n",
       "}\n",
       "\n",
       "/* On hover */\n",
       "div.sk-estimator:hover .sk-estimator-doc-link:hover,\n",
       ".sk-estimator-doc-link:hover,\n",
       "div.sk-label-container:hover .sk-estimator-doc-link:hover,\n",
       ".sk-estimator-doc-link:hover {\n",
       "  /* unfitted */\n",
       "  background-color: var(--sklearn-color-unfitted-level-3);\n",
       "  color: var(--sklearn-color-background);\n",
       "  text-decoration: none;\n",
       "}\n",
       "\n",
       "div.sk-estimator.fitted:hover .sk-estimator-doc-link.fitted:hover,\n",
       ".sk-estimator-doc-link.fitted:hover,\n",
       "div.sk-label-container:hover .sk-estimator-doc-link.fitted:hover,\n",
       ".sk-estimator-doc-link.fitted:hover {\n",
       "  /* fitted */\n",
       "  background-color: var(--sklearn-color-fitted-level-3);\n",
       "  color: var(--sklearn-color-background);\n",
       "  text-decoration: none;\n",
       "}\n",
       "\n",
       "/* Span, style for the box shown on hovering the info icon */\n",
       ".sk-estimator-doc-link span {\n",
       "  display: none;\n",
       "  z-index: 9999;\n",
       "  position: relative;\n",
       "  font-weight: normal;\n",
       "  right: .2ex;\n",
       "  padding: .5ex;\n",
       "  margin: .5ex;\n",
       "  width: min-content;\n",
       "  min-width: 20ex;\n",
       "  max-width: 50ex;\n",
       "  color: var(--sklearn-color-text);\n",
       "  box-shadow: 2pt 2pt 4pt #999;\n",
       "  /* unfitted */\n",
       "  background: var(--sklearn-color-unfitted-level-0);\n",
       "  border: .5pt solid var(--sklearn-color-unfitted-level-3);\n",
       "}\n",
       "\n",
       ".sk-estimator-doc-link.fitted span {\n",
       "  /* fitted */\n",
       "  background: var(--sklearn-color-fitted-level-0);\n",
       "  border: var(--sklearn-color-fitted-level-3);\n",
       "}\n",
       "\n",
       ".sk-estimator-doc-link:hover span {\n",
       "  display: block;\n",
       "}\n",
       "\n",
       "/* \"?\"-specific style due to the `<a>` HTML tag */\n",
       "\n",
       "#sk-container-id-1 a.estimator_doc_link {\n",
       "  float: right;\n",
       "  font-size: 1rem;\n",
       "  line-height: 1em;\n",
       "  font-family: monospace;\n",
       "  background-color: var(--sklearn-color-background);\n",
       "  border-radius: 1rem;\n",
       "  height: 1rem;\n",
       "  width: 1rem;\n",
       "  text-decoration: none;\n",
       "  /* unfitted */\n",
       "  color: var(--sklearn-color-unfitted-level-1);\n",
       "  border: var(--sklearn-color-unfitted-level-1) 1pt solid;\n",
       "}\n",
       "\n",
       "#sk-container-id-1 a.estimator_doc_link.fitted {\n",
       "  /* fitted */\n",
       "  border: var(--sklearn-color-fitted-level-1) 1pt solid;\n",
       "  color: var(--sklearn-color-fitted-level-1);\n",
       "}\n",
       "\n",
       "/* On hover */\n",
       "#sk-container-id-1 a.estimator_doc_link:hover {\n",
       "  /* unfitted */\n",
       "  background-color: var(--sklearn-color-unfitted-level-3);\n",
       "  color: var(--sklearn-color-background);\n",
       "  text-decoration: none;\n",
       "}\n",
       "\n",
       "#sk-container-id-1 a.estimator_doc_link.fitted:hover {\n",
       "  /* fitted */\n",
       "  background-color: var(--sklearn-color-fitted-level-3);\n",
       "}\n",
       "</style><div id=\"sk-container-id-1\" class=\"sk-top-container\"><div class=\"sk-text-repr-fallback\"><pre>GridSearchCV(cv=3,\n",
       "             estimator=XGBClassifier(base_score=None, booster=None,\n",
       "                                     callbacks=None, colsample_bylevel=None,\n",
       "                                     colsample_bynode=None,\n",
       "                                     colsample_bytree=None, device=None,\n",
       "                                     early_stopping_rounds=None,\n",
       "                                     enable_categorical=False, eval_metric=None,\n",
       "                                     feature_types=None, gamma=None,\n",
       "                                     grow_policy=None, importance_type=None,\n",
       "                                     interaction_constraints=None,\n",
       "                                     learning_rate=0.1, max_bin=None,\n",
       "                                     max_cat_threshold=None,\n",
       "                                     max_cat_to_onehot=None,\n",
       "                                     max_delta_step=None, max_depth=None,\n",
       "                                     max_leaves=None, min_child_weight=None,\n",
       "                                     missing=nan, monotone_constraints=None,\n",
       "                                     multi_strategy=None, n_estimators=None,\n",
       "                                     n_jobs=None, num_parallel_tree=None,\n",
       "                                     random_state=None, ...),\n",
       "             param_grid={&#x27;max_depth&#x27;: [10, 12, 15, 20],\n",
       "                         &#x27;n_estimators&#x27;: [80, 90, 100, 110]},\n",
       "             scoring=&#x27;f1&#x27;)</pre><b>In a Jupyter environment, please rerun this cell to show the HTML representation or trust the notebook. <br />On GitHub, the HTML representation is unable to render, please try loading this page with nbviewer.org.</b></div><div class=\"sk-container\" hidden><div class=\"sk-item sk-dashed-wrapped\"><div class=\"sk-label-container\"><div class=\"sk-label fitted sk-toggleable\"><input class=\"sk-toggleable__control sk-hidden--visually\" id=\"sk-estimator-id-1\" type=\"checkbox\" ><label for=\"sk-estimator-id-1\" class=\"sk-toggleable__label fitted sk-toggleable__label-arrow fitted\">&nbsp;&nbsp;GridSearchCV<a class=\"sk-estimator-doc-link fitted\" rel=\"noreferrer\" target=\"_blank\" href=\"https://scikit-learn.org/1.5/modules/generated/sklearn.model_selection.GridSearchCV.html\">?<span>Documentation for GridSearchCV</span></a><span class=\"sk-estimator-doc-link fitted\">i<span>Fitted</span></span></label><div class=\"sk-toggleable__content fitted\"><pre>GridSearchCV(cv=3,\n",
       "             estimator=XGBClassifier(base_score=None, booster=None,\n",
       "                                     callbacks=None, colsample_bylevel=None,\n",
       "                                     colsample_bynode=None,\n",
       "                                     colsample_bytree=None, device=None,\n",
       "                                     early_stopping_rounds=None,\n",
       "                                     enable_categorical=False, eval_metric=None,\n",
       "                                     feature_types=None, gamma=None,\n",
       "                                     grow_policy=None, importance_type=None,\n",
       "                                     interaction_constraints=None,\n",
       "                                     learning_rate=0.1, max_bin=None,\n",
       "                                     max_cat_threshold=None,\n",
       "                                     max_cat_to_onehot=None,\n",
       "                                     max_delta_step=None, max_depth=None,\n",
       "                                     max_leaves=None, min_child_weight=None,\n",
       "                                     missing=nan, monotone_constraints=None,\n",
       "                                     multi_strategy=None, n_estimators=None,\n",
       "                                     n_jobs=None, num_parallel_tree=None,\n",
       "                                     random_state=None, ...),\n",
       "             param_grid={&#x27;max_depth&#x27;: [10, 12, 15, 20],\n",
       "                         &#x27;n_estimators&#x27;: [80, 90, 100, 110]},\n",
       "             scoring=&#x27;f1&#x27;)</pre></div> </div></div><div class=\"sk-parallel\"><div class=\"sk-parallel-item\"><div class=\"sk-item\"><div class=\"sk-label-container\"><div class=\"sk-label fitted sk-toggleable\"><input class=\"sk-toggleable__control sk-hidden--visually\" id=\"sk-estimator-id-2\" type=\"checkbox\" ><label for=\"sk-estimator-id-2\" class=\"sk-toggleable__label fitted sk-toggleable__label-arrow fitted\">best_estimator_: XGBClassifier</label><div class=\"sk-toggleable__content fitted\"><pre>XGBClassifier(base_score=None, booster=None, callbacks=None,\n",
       "              colsample_bylevel=None, colsample_bynode=None,\n",
       "              colsample_bytree=None, device=None, early_stopping_rounds=None,\n",
       "              enable_categorical=False, eval_metric=None, feature_types=None,\n",
       "              gamma=None, grow_policy=None, importance_type=None,\n",
       "              interaction_constraints=None, learning_rate=0.1, max_bin=None,\n",
       "              max_cat_threshold=None, max_cat_to_onehot=None,\n",
       "              max_delta_step=None, max_depth=20, max_leaves=None,\n",
       "              min_child_weight=None, missing=nan, monotone_constraints=None,\n",
       "              multi_strategy=None, n_estimators=80, n_jobs=None,\n",
       "              num_parallel_tree=None, random_state=None, ...)</pre></div> </div></div><div class=\"sk-serial\"><div class=\"sk-item\"><div class=\"sk-estimator fitted sk-toggleable\"><input class=\"sk-toggleable__control sk-hidden--visually\" id=\"sk-estimator-id-3\" type=\"checkbox\" ><label for=\"sk-estimator-id-3\" class=\"sk-toggleable__label fitted sk-toggleable__label-arrow fitted\">XGBClassifier</label><div class=\"sk-toggleable__content fitted\"><pre>XGBClassifier(base_score=None, booster=None, callbacks=None,\n",
       "              colsample_bylevel=None, colsample_bynode=None,\n",
       "              colsample_bytree=None, device=None, early_stopping_rounds=None,\n",
       "              enable_categorical=False, eval_metric=None, feature_types=None,\n",
       "              gamma=None, grow_policy=None, importance_type=None,\n",
       "              interaction_constraints=None, learning_rate=0.1, max_bin=None,\n",
       "              max_cat_threshold=None, max_cat_to_onehot=None,\n",
       "              max_delta_step=None, max_depth=20, max_leaves=None,\n",
       "              min_child_weight=None, missing=nan, monotone_constraints=None,\n",
       "              multi_strategy=None, n_estimators=80, n_jobs=None,\n",
       "              num_parallel_tree=None, random_state=None, ...)</pre></div> </div></div></div></div></div></div></div></div></div>"
      ],
      "text/plain": [
       "GridSearchCV(cv=3,\n",
       "             estimator=XGBClassifier(base_score=None, booster=None,\n",
       "                                     callbacks=None, colsample_bylevel=None,\n",
       "                                     colsample_bynode=None,\n",
       "                                     colsample_bytree=None, device=None,\n",
       "                                     early_stopping_rounds=None,\n",
       "                                     enable_categorical=False, eval_metric=None,\n",
       "                                     feature_types=None, gamma=None,\n",
       "                                     grow_policy=None, importance_type=None,\n",
       "                                     interaction_constraints=None,\n",
       "                                     learning_rate=0.1, max_bin=None,\n",
       "                                     max_cat_threshold=None,\n",
       "                                     max_cat_to_onehot=None,\n",
       "                                     max_delta_step=None, max_depth=None,\n",
       "                                     max_leaves=None, min_child_weight=None,\n",
       "                                     missing=nan, monotone_constraints=None,\n",
       "                                     multi_strategy=None, n_estimators=None,\n",
       "                                     n_jobs=None, num_parallel_tree=None,\n",
       "                                     random_state=None, ...),\n",
       "             param_grid={'max_depth': [10, 12, 15, 20],\n",
       "                         'n_estimators': [80, 90, 100, 110]},\n",
       "             scoring='f1')"
      ]
     },
     "execution_count": 43,
     "metadata": {},
     "output_type": "execute_result"
    }
   ],
   "source": [
    "param = {'n_estimators': [80, 90, 100, 200, 500],\n",
    "         'max_depth': [10, 12, 15, 20]}\n",
    "model = GridSearchCV(estimator=xgb.XGBClassifier(learning_rate=0.1), param_grid=param, scoring='f1', cv=3, refit=True)\n",
    "model.fit(X_train, y_train)"
   ]
  },
  {
   "cell_type": "code",
   "execution_count": 44,
   "id": "108eceeb",
   "metadata": {
    "execution": {
     "iopub.execute_input": "2024-11-10T22:12:35.088168Z",
     "iopub.status.busy": "2024-11-10T22:12:35.087620Z",
     "iopub.status.idle": "2024-11-10T22:12:35.096611Z",
     "shell.execute_reply": "2024-11-10T22:12:35.094628Z"
    },
    "papermill": {
     "duration": 0.031569,
     "end_time": "2024-11-10T22:12:35.100170",
     "exception": false,
     "start_time": "2024-11-10T22:12:35.068601",
     "status": "completed"
    },
    "tags": []
   },
   "outputs": [],
   "source": [
    "def optimal_threshold(start, end, delta, model, X, y):\n",
    "    best_score = 0\n",
    "    best_threshold = start\n",
    "    probs = model.predict_proba(X)\n",
    "\n",
    "    while start <= end:\n",
    "        predictions = probs[:, 1] > start\n",
    "        score = f1_score(y, predictions)\n",
    "        if score > best_score:\n",
    "            best_score = score\n",
    "            best_threshold = start\n",
    "        start += delta\n",
    "    return best_score, best_threshold"
   ]
  },
  {
   "cell_type": "code",
   "execution_count": 45,
   "id": "9691705d",
   "metadata": {
    "execution": {
     "iopub.execute_input": "2024-11-10T22:12:35.137323Z",
     "iopub.status.busy": "2024-11-10T22:12:35.136740Z",
     "iopub.status.idle": "2024-11-10T22:12:35.144381Z",
     "shell.execute_reply": "2024-11-10T22:12:35.142219Z"
    },
    "papermill": {
     "duration": 0.030437,
     "end_time": "2024-11-10T22:12:35.147899",
     "exception": false,
     "start_time": "2024-11-10T22:12:35.117462",
     "status": "completed"
    },
    "tags": []
   },
   "outputs": [
    {
     "name": "stdout",
     "output_type": "stream",
     "text": [
      "Best Params: {'max_depth': 20, 'n_estimators': 80}\n"
     ]
    }
   ],
   "source": [
    "xgb = model.best_estimator_\n",
    "print(f\"Best Params: {model.best_params_}\")"
   ]
  },
  {
   "cell_type": "code",
   "execution_count": 46,
   "id": "1773e423",
   "metadata": {
    "execution": {
     "iopub.execute_input": "2024-11-10T22:12:35.185040Z",
     "iopub.status.busy": "2024-11-10T22:12:35.184403Z",
     "iopub.status.idle": "2024-11-10T22:12:42.681515Z",
     "shell.execute_reply": "2024-11-10T22:12:42.679853Z"
    },
    "papermill": {
     "duration": 7.519815,
     "end_time": "2024-11-10T22:12:42.685022",
     "exception": false,
     "start_time": "2024-11-10T22:12:35.165207",
     "status": "completed"
    },
    "tags": []
   },
   "outputs": [],
   "source": [
    "score, threshold = optimal_threshold(0.1, 0.8, 0.05, xgb, X_train, y_train)"
   ]
  },
  {
   "cell_type": "code",
   "execution_count": 47,
   "id": "3b68cae2",
   "metadata": {
    "execution": {
     "iopub.execute_input": "2024-11-10T22:12:42.724393Z",
     "iopub.status.busy": "2024-11-10T22:12:42.722446Z",
     "iopub.status.idle": "2024-11-10T22:12:42.732926Z",
     "shell.execute_reply": "2024-11-10T22:12:42.731073Z"
    },
    "papermill": {
     "duration": 0.032557,
     "end_time": "2024-11-10T22:12:42.735716",
     "exception": false,
     "start_time": "2024-11-10T22:12:42.703159",
     "status": "completed"
    },
    "tags": []
   },
   "outputs": [
    {
     "data": {
      "text/plain": [
       "(0.8868551867295471, 0.35)"
      ]
     },
     "execution_count": 47,
     "metadata": {},
     "output_type": "execute_result"
    }
   ],
   "source": [
    "score, threshold"
   ]
  },
  {
   "cell_type": "code",
   "execution_count": 48,
   "id": "697e334b",
   "metadata": {
    "execution": {
     "iopub.execute_input": "2024-11-10T22:12:42.774666Z",
     "iopub.status.busy": "2024-11-10T22:12:42.773747Z",
     "iopub.status.idle": "2024-11-10T22:12:46.229551Z",
     "shell.execute_reply": "2024-11-10T22:12:46.228169Z"
    },
    "papermill": {
     "duration": 3.478976,
     "end_time": "2024-11-10T22:12:46.233162",
     "exception": false,
     "start_time": "2024-11-10T22:12:42.754186",
     "status": "completed"
    },
    "tags": []
   },
   "outputs": [],
   "source": [
    "probs = model.predict_proba(X_test)\n",
    "\n",
    "target = probs[:, 1] > threshold\n",
    "\n",
    "sample['target'] = target\n",
    "sample['target'] = sample['target'].astype(int)\n",
    "\n",
    "sample.to_csv('submission.csv', index=False)"
   ]
  },
  {
   "cell_type": "code",
   "execution_count": null,
   "id": "0292236e",
   "metadata": {
    "papermill": {
     "duration": 0.016766,
     "end_time": "2024-11-10T22:12:46.267144",
     "exception": false,
     "start_time": "2024-11-10T22:12:46.250378",
     "status": "completed"
    },
    "tags": []
   },
   "outputs": [],
   "source": []
  },
  {
   "cell_type": "code",
   "execution_count": null,
   "id": "42714865",
   "metadata": {
    "papermill": {
     "duration": 0.019673,
     "end_time": "2024-11-10T22:12:46.304710",
     "exception": false,
     "start_time": "2024-11-10T22:12:46.285037",
     "status": "completed"
    },
    "tags": []
   },
   "outputs": [],
   "source": []
  }
 ],
 "metadata": {
  "kaggle": {
   "accelerator": "none",
   "dataSources": [
    {
     "databundleVersionId": 2344227,
     "sourceId": 29296,
     "sourceType": "competition"
    }
   ],
   "dockerImageVersionId": 30786,
   "isGpuEnabled": false,
   "isInternetEnabled": false,
   "language": "python",
   "sourceType": "notebook"
  },
  "kernelspec": {
   "display_name": "Python 3",
   "language": "python",
   "name": "python3"
  },
  "language_info": {
   "codemirror_mode": {
    "name": "ipython",
    "version": 3
   },
   "file_extension": ".py",
   "mimetype": "text/x-python",
   "name": "python",
   "nbconvert_exporter": "python",
   "pygments_lexer": "ipython3",
   "version": "3.11.6"
  },
  "papermill": {
   "default_parameters": {},
   "duration": 447.890901,
   "end_time": "2024-11-10T22:12:47.349912",
   "environment_variables": {},
   "exception": null,
   "input_path": "__notebook__.ipynb",
   "output_path": "__notebook__.ipynb",
   "parameters": {},
   "start_time": "2024-11-10T22:05:19.459011",
   "version": "2.6.0"
  }
 },
 "nbformat": 4,
 "nbformat_minor": 5
}
